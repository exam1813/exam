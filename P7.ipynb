{
 "cells": [
  {
   "cell_type": "code",
   "execution_count": 3,
   "id": "cf34c0f6",
   "metadata": {},
   "outputs": [
    {
     "name": "stdout",
     "output_type": "stream",
     "text": [
      "['Woman']\n",
      "Accuracy on the training subset: 1.0\n"
     ]
    }
   ],
   "source": [
    "from sklearn.svm import SVC\n",
    "\n",
    "# Features: [height, age]\n",
    "X = [\n",
    "    [165, 19], [175, 32], [136, 35], [174, 65], [141, 28],\n",
    "    [176, 15], [131, 32], [166, 6], [128, 32], [179, 10],\n",
    "    [136, 34], [186, 21], [126, 25], [176, 28], [112, 38],\n",
    "    [169, 9], [171, 36], [116, 25], [196, 25], [150, 30]\n",
    "]\n",
    "\n",
    "# Labels: Gender\n",
    "Y = [\n",
    "    'Man', 'Woman', 'Woman', 'Man', 'Woman',\n",
    "    'Man', 'Woman', 'Man', 'Woman', 'Man',\n",
    "    'Woman', 'Man', 'Woman', 'Woman', 'Woman',\n",
    "    'Man', 'Woman', 'Woman', 'Man', 'Woman'\n",
    "]\n",
    "\n",
    "# Create and train the SVM model\n",
    "SVC_model = SVC(gamma='auto')\n",
    "SVC_model.fit(X, Y)\n",
    "\n",
    "# Prediction for a new person (e.g., height=156, age=53)\n",
    "prediction = SVC_model.predict([[156, 53]])\n",
    "print(prediction)\n",
    "\n",
    "# Accuracy on the training data\n",
    "print(\"Accuracy on the training subset:\", SVC_model.score(X, Y))\n"
   ]
  },
  {
   "cell_type": "code",
   "execution_count": null,
   "id": "1cf413ea",
   "metadata": {},
   "outputs": [],
   "source": []
  }
 ],
 "metadata": {
  "kernelspec": {
   "display_name": "Python [conda env:base] *",
   "language": "python",
   "name": "conda-base-py"
  },
  "language_info": {
   "codemirror_mode": {
    "name": "ipython",
    "version": 3
   },
   "file_extension": ".py",
   "mimetype": "text/x-python",
   "name": "python",
   "nbconvert_exporter": "python",
   "pygments_lexer": "ipython3",
   "version": "3.12.7"
  }
 },
 "nbformat": 4,
 "nbformat_minor": 5
}
