{
 "cells": [
  {
   "cell_type": "code",
   "execution_count": 1,
   "id": "ea0b585f-2e34-41c5-8ef2-b98e8661807d",
   "metadata": {},
   "outputs": [
    {
     "name": "stdout",
     "output_type": "stream",
     "text": [
      "Predicted class for [165, 60] is: 0\n"
     ]
    }
   ],
   "source": [
    "from sklearn.neighbors import KNeighborsClassifier\n",
    "X = [\n",
    "    [150, 45], [152, 48], [155, 50], [157, 52], [160, 54],\n",
    "    [162, 55], [163, 57], [164, 58], [166, 60], [168, 62],\n",
    "    [170, 65], [172, 67], [174, 70], [176, 72], [178, 75],\n",
    "    [180, 78], [182, 80], [184, 83], [186, 85], [188, 88]\n",
    "]\n",
    "y = [\n",
    "    0, 0, 0, 0, 0,\n",
    "    0, 0, 0, 1, 1,\n",
    "    1, 1, 1, 1, 1,\n",
    "    1, 1, 1, 1, 1\n",
    "]\n",
    "\n",
    "knn = KNeighborsClassifier(n_neighbors=3)\n",
    "knn.fit(X, y)\n",
    "\n",
    "new_data = [[165, 60]]\n",
    "predicted_class = knn.predict(new_data)\n",
    "print(f\"Predicted class for {new_data[0]} is: {predicted_class[0]}\")\n"
   ]
  },
  {
   "cell_type": "code",
   "execution_count": null,
   "id": "204c1616-b457-4839-aef4-17d0312b6cc3",
   "metadata": {},
   "outputs": [],
   "source": []
  }
 ],
 "metadata": {
  "kernelspec": {
   "display_name": "Python [conda env:base] *",
   "language": "python",
   "name": "conda-base-py"
  },
  "language_info": {
   "codemirror_mode": {
    "name": "ipython",
    "version": 3
   },
   "file_extension": ".py",
   "mimetype": "text/x-python",
   "name": "python",
   "nbconvert_exporter": "python",
   "pygments_lexer": "ipython3",
   "version": "3.12.7"
  }
 },
 "nbformat": 4,
 "nbformat_minor": 5
}
