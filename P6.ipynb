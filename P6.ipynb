{
 "cells": [
  {
   "cell_type": "code",
   "execution_count": 3,
   "id": "9ccfe38d",
   "metadata": {},
   "outputs": [
    {
     "name": "stdout",
     "output_type": "stream",
     "text": [
      "['Man']\n",
      "Accuracy on the training subset is: 0.7894736842105263\n"
     ]
    }
   ],
   "source": [
    "import numpy as np\n",
    "from sklearn import linear_model\n",
    "\n",
    "X = [\n",
    "    [165, 19], [175, 32], [136, 35], [174, 65], [141, 28],\n",
    "    [176, 15], [131, 32], [166, 6], [128, 32], [179, 10],\n",
    "    [136, 34], [186, 21], [126, 25], [176, 28], [142, 38],\n",
    "    [169, 9], [171, 36], [116, 25], [196, 25]\n",
    "]\n",
    "\n",
    "Y = [\n",
    "    'Man', 'Woman', 'Woman', 'Man', 'Woman',\n",
    "    'Man', 'Woman', 'Man', 'Woman', 'Man',\n",
    "    'Woman', 'Man', 'Woman', 'Woman', 'Woman',\n",
    "    'Man', 'Woman', 'Woman', 'Man'\n",
    "]\n",
    "\n",
    "LR_model = linear_model.LogisticRegression()\n",
    "LR_model.fit(X, Y)\n",
    "\n",
    "prediction = LR_model.predict([[169, 19]])\n",
    "print(prediction)\n",
    "\n",
    "# Accuracy on training data\n",
    "print('Accuracy on the training subset is:', LR_model.score(X, Y))\n"
   ]
  },
  {
   "cell_type": "code",
   "execution_count": null,
   "id": "b1cee0cd",
   "metadata": {},
   "outputs": [],
   "source": []
  }
 ],
 "metadata": {
  "kernelspec": {
   "display_name": "Python [conda env:base] *",
   "language": "python",
   "name": "conda-base-py"
  },
  "language_info": {
   "codemirror_mode": {
    "name": "ipython",
    "version": 3
   },
   "file_extension": ".py",
   "mimetype": "text/x-python",
   "name": "python",
   "nbconvert_exporter": "python",
   "pygments_lexer": "ipython3",
   "version": "3.12.7"
  }
 },
 "nbformat": 4,
 "nbformat_minor": 5
}
