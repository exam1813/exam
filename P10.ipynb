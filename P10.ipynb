{
 "cells": [
  {
   "cell_type": "code",
   "execution_count": 2,
   "id": "5bb2d31b",
   "metadata": {},
   "outputs": [
    {
     "name": "stdout",
     "output_type": "stream",
     "text": [
      "Frequent Itemsets:\n",
      "Level 1: {('butter',): 3, ('milk',): 4, ('bread',): 3}\n",
      "Level 2: {('bread', 'butter'): 2, ('bread', 'milk'): 3, ('butter', 'milk'): 3}\n",
      "Level 3: {('bread', 'butter', 'milk'): 2}\n",
      "\n",
      "Association Rules:\n",
      "{bread} -> {milk} (conf: 1.000, supp: 0.750, lift: 1.000, conv: 0.000)\n",
      "{butter} -> {milk} (conf: 1.000, supp: 0.750, lift: 1.000, conv: 0.000)\n",
      "{bread, butter} -> {milk} (conf: 1.000, supp: 0.500, lift: 1.000, conv: 0.000)\n"
     ]
    }
   ],
   "source": [
    "from efficient_apriori import apriori\n",
    "\n",
    "transactions = [\n",
    "    ['butter', 'milk', 'bread'],\n",
    "    ['butter', 'milk', 'apple'],\n",
    "    ['bread', 'milk', 'banana'],\n",
    "    ['milk', 'bread', 'butter']\n",
    "]\n",
    "\n",
    "itemsets, rules = apriori(transactions, min_support=0.3, min_confidence=0.8)\n",
    "\n",
    "print(\"Frequent Itemsets:\")\n",
    "for k, v in itemsets.items():\n",
    "    print(f\"Level {k}: {v}\")\n",
    "\n",
    "print(\"\\nAssociation Rules:\")\n",
    "for rule in rules:\n",
    "    print(rule)\n"
   ]
  },
  {
   "cell_type": "code",
   "execution_count": 3,
   "id": "7bc5cfdb",
   "metadata": {},
   "outputs": [
    {
     "name": "stdout",
     "output_type": "stream",
     "text": [
      "Collecting efficient_apriori\n",
      "  Downloading efficient_apriori-2.0.5-py3-none-any.whl.metadata (6.7 kB)\n",
      "Downloading efficient_apriori-2.0.5-py3-none-any.whl (14 kB)\n",
      "Installing collected packages: efficient_apriori\n",
      "Successfully installed efficient_apriori-2.0.5\n",
      "Note: you may need to restart the kernel to use updated packages.\n"
     ]
    }
   ],
   "source": [
    "pip install efficient_apriori\n"
   ]
  },
  {
   "cell_type": "code",
   "execution_count": null,
   "id": "09769734-d98e-4981-982c-da4b44314108",
   "metadata": {},
   "outputs": [],
   "source": []
  },
  {
   "cell_type": "code",
   "execution_count": null,
   "id": "5c28a3b8-47f7-4450-b8f2-923b8aee76b4",
   "metadata": {},
   "outputs": [],
   "source": []
  }
 ],
 "metadata": {
  "kernelspec": {
   "display_name": "Python [conda env:base] *",
   "language": "python",
   "name": "conda-base-py"
  },
  "language_info": {
   "codemirror_mode": {
    "name": "ipython",
    "version": 3
   },
   "file_extension": ".py",
   "mimetype": "text/x-python",
   "name": "python",
   "nbconvert_exporter": "python",
   "pygments_lexer": "ipython3",
   "version": "3.12.7"
  }
 },
 "nbformat": 4,
 "nbformat_minor": 5
}
