{
 "cells": [
  {
   "cell_type": "code",
   "execution_count": 3,
   "id": "711ad287",
   "metadata": {},
   "outputs": [
    {
     "name": "stdout",
     "output_type": "stream",
     "text": [
      "Mean Pixel Intensity: 208.48577587833304\n",
      "Standard Deviation of Intensity: 59.44784777315611\n"
     ]
    }
   ],
   "source": [
    "import cv2\n",
    "import numpy as np\n",
    "\n",
    "# Load the image in grayscale\n",
    "image = cv2.imread(r'C:\\Users\\HP\\Downloads\\CAT.jpg', cv2.IMREAD_GRAYSCALE)\n",
    "\n",
    "# Check if image is loaded successfully\n",
    "if image is None:\n",
    "    print(\"Error: Image not found.\")\n",
    "else:\n",
    "    # Feature 1: Mean intensity (average pixel intensity in the image)\n",
    "    mean_intensity = np.mean(image)\n",
    "    \n",
    "    # Feature 2: Standard deviation of intensity (spread of pixel intensities)\n",
    "    std_intensity = np.std(image)\n",
    "    \n",
    "    print(\"Mean Pixel Intensity:\", mean_intensity)\n",
    "    print(\"Standard Deviation of Intensity:\", std_intensity)\n"
   ]
  },
  {
   "cell_type": "code",
   "execution_count": null,
   "id": "bd4755a8",
   "metadata": {},
   "outputs": [],
   "source": []
  }
 ],
 "metadata": {
  "kernelspec": {
   "display_name": "Python [conda env:base] *",
   "language": "python",
   "name": "conda-base-py"
  },
  "language_info": {
   "codemirror_mode": {
    "name": "ipython",
    "version": 3
   },
   "file_extension": ".py",
   "mimetype": "text/x-python",
   "name": "python",
   "nbconvert_exporter": "python",
   "pygments_lexer": "ipython3",
   "version": "3.12.7"
  }
 },
 "nbformat": 4,
 "nbformat_minor": 5
}
