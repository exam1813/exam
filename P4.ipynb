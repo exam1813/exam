{
 "cells": [
  {
   "cell_type": "code",
   "execution_count": 3,
   "id": "b635419a",
   "metadata": {},
   "outputs": [
    {
     "name": "stdout",
     "output_type": "stream",
     "text": [
      "Prediction for 2021 with GDP 6.1: 3.4596103337762827\n",
      "Prediction for 2022 with GDP 6.4: 3.597679043226762\n"
     ]
    }
   ],
   "source": [
    "from sklearn.linear_model import LinearRegression\n",
    "\n",
    "X = [\n",
    "    [2001, 5.2], [2002, 5.1], [2003, 5.1], [2004, 4.9], [2005, 5.0],\n",
    "    [2006, 5.1], [2007, 5.4], [2008, 5.6], [2009, 5.9], [2010, 5.8],\n",
    "    [2011, 6.2], [2012, 6.0], [2013, 5.8], [2014, 6.1], [2015, 6.4]\n",
    "]\n",
    "\n",
    "Y = [2.5, 2.52, 2.54, 2.48, 2.52, 2.54, 2.55, 2.7, 2.9, 3.2, 3.16, 3.28, 3.2, 3.15, 3.26]\n",
    "\n",
    "len(X), len(Y) \n",
    "\n",
    "LinR_model = LinearRegression()\n",
    "LinR_model.fit(X, Y)\n",
    "\n",
    "prediction = LinR_model.predict([[2021, 6.1]])\n",
    "print(\"Prediction for 2021 with GDP 6.1:\", prediction[0])\n",
    "\n",
    "prediction_2022 = LinR_model.predict([[2022, 6.4]])\n",
    "print(\"Prediction for 2022 with GDP 6.4:\", prediction_2022[0])"
   ]
  },
  {
   "cell_type": "code",
   "execution_count": null,
   "id": "37c76f4e",
   "metadata": {},
   "outputs": [],
   "source": []
  }
 ],
 "metadata": {
  "kernelspec": {
   "display_name": "Python [conda env:base] *",
   "language": "python",
   "name": "conda-base-py"
  },
  "language_info": {
   "codemirror_mode": {
    "name": "ipython",
    "version": 3
   },
   "file_extension": ".py",
   "mimetype": "text/x-python",
   "name": "python",
   "nbconvert_exporter": "python",
   "pygments_lexer": "ipython3",
   "version": "3.12.7"
  }
 },
 "nbformat": 4,
 "nbformat_minor": 5
}
