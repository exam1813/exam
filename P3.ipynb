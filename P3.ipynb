{
 "cells": [
  {
   "cell_type": "code",
   "execution_count": 1,
   "id": "5c5b0795",
   "metadata": {},
   "outputs": [
    {
     "name": "stdout",
     "output_type": "stream",
     "text": [
      "Prediction for new data: Dog\n"
     ]
    }
   ],
   "source": [
    "from sklearn.naive_bayes import GaussianNB\n",
    "\n",
    "X = [\n",
    "    [210.1, 50.3],\n",
    "    [220.5, 52.8],\n",
    "    [215.0, 48.9],\n",
    "    [218.2, 51.5],\n",
    "    [222.3, 55.0],\n",
    "    [120.6, 30.1],\n",
    "    [118.7, 28.5],\n",
    "    [125.9, 32.2],\n",
    "    [130.0, 33.0],\n",
    "    [119.5, 29.8]\n",
    "]\n",
    "\n",
    "y = ['Dog', 'Dog', 'Dog', 'Dog', 'Dog', 'Cat', 'Cat', 'Cat', 'Cat', 'Cat']\n",
    "\n",
    "model = GaussianNB()\n",
    "model.fit(X, y)\n",
    "\n",
    "new_data = [[219.74617433, 53.87654]]\n",
    "prediction = model.predict(new_data)\n",
    "\n",
    "print(\"Prediction for new data:\", prediction[0])"
   ]
  },
  {
   "cell_type": "code",
   "execution_count": null,
   "id": "a62782e0",
   "metadata": {},
   "outputs": [],
   "source": []
  }
 ],
 "metadata": {
  "kernelspec": {
   "display_name": "Python [conda env:base] *",
   "language": "python",
   "name": "conda-base-py"
  },
  "language_info": {
   "codemirror_mode": {
    "name": "ipython",
    "version": 3
   },
   "file_extension": ".py",
   "mimetype": "text/x-python",
   "name": "python",
   "nbconvert_exporter": "python",
   "pygments_lexer": "ipython3",
   "version": "3.12.7"
  }
 },
 "nbformat": 4,
 "nbformat_minor": 5
}
