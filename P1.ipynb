{
 "cells": [
  {
   "cell_type": "code",
   "execution_count": 1,
   "id": "7c4e0096",
   "metadata": {},
   "outputs": [
    {
     "name": "stdout",
     "output_type": "stream",
     "text": [
      " Original DataFrame:\n",
      "    ID     Name    Age    Salary Department   Join Date    Bonus\n",
      "0   1    Alice   25.0   50000.0         HR  2020-01-01   5000.0\n",
      "1   2      Bob   29.0  100000.0         IT  2020-05-15   6000.0\n",
      "2   3  Charlie   28.0   65000.0         IT  2021-03-20   5500.0\n",
      "3   4     None    NaN   70000.0         HR  2020-11-25   7000.0\n",
      "4   5    David   32.0       NaN         IT  2021-08-30      NaN\n",
      "5   6      Eve   35.0   80000.0      Sales        None   8000.0\n",
      "6   7    Alice   25.0   50000.0         HR  2020-01-01   5000.0\n",
      "7   8    Frank  100.0  100000.0         IT  2022-06-18  10000.0\n",
      "8   9      Eve   26.0   65000.0         HR  2021-02-11   6500.0\n",
      "\n",
      " After removing missing values:\n",
      "    ID     Name    Age    Salary Department   Join Date    Bonus\n",
      "0   1    Alice   25.0   50000.0         HR  2020-01-01   5000.0\n",
      "1   2      Bob   29.0  100000.0         IT  2020-05-15   6000.0\n",
      "2   3  Charlie   28.0   65000.0         IT  2021-03-20   5500.0\n",
      "6   7    Alice   25.0   50000.0         HR  2020-01-01   5000.0\n",
      "7   8    Frank  100.0  100000.0         IT  2022-06-18  10000.0\n",
      "8   9      Eve   26.0   65000.0         HR  2021-02-11   6500.0\n",
      "\n",
      " After removing duplicates:\n",
      "    ID     Name    Age    Salary Department   Join Date    Bonus\n",
      "0   1    Alice   25.0   50000.0         HR  2020-01-01   5000.0\n",
      "1   2      Bob   29.0  100000.0         IT  2020-05-15   6000.0\n",
      "2   3  Charlie   28.0   65000.0         IT  2021-03-20   5500.0\n",
      "6   7    Alice   25.0   50000.0         HR  2020-01-01   5000.0\n",
      "7   8    Frank  100.0  100000.0         IT  2022-06-18  10000.0\n",
      "8   9      Eve   26.0   65000.0         HR  2021-02-11   6500.0\n",
      "\n",
      " After removing outliers:\n",
      "    ID     Name   Age   Salary Department   Join Date   Bonus\n",
      "0   1    Alice  25.0  50000.0         HR  2020-01-01  5000.0\n",
      "2   3  Charlie  28.0  65000.0         IT  2021-03-20  5500.0\n",
      "6   7    Alice  25.0  50000.0         HR  2020-01-01  5000.0\n",
      "8   9      Eve  26.0  65000.0         HR  2021-02-11  6500.0\n",
      "\n",
      " Final Cleaned DataFrame:\n",
      "    ID     Name   Age   Salary Department   Join Date   Bonus\n",
      "0   1    Alice  25.0  50000.0         HR  2020-01-01  5000.0\n",
      "2   3  Charlie  28.0  65000.0         IT  2021-03-20  5500.0\n",
      "6   7    Alice  25.0  50000.0         HR  2020-01-01  5000.0\n",
      "8   9      Eve  26.0  65000.0         HR  2021-02-11  6500.0\n"
     ]
    }
   ],
   "source": [
    "import pandas as pd\n",
    "import numpy as np\n",
    "\n",
    "data = pd.DataFrame({\n",
    "    'ID': [1, 2, 3, 4, 5, 6, 7, 8, 9],\n",
    "    'Name': ['Alice', 'Bob', 'Charlie', None, 'David', 'Eve', 'Alice', 'Frank', 'Eve'],\n",
    "    'Age': [25, 29, 28, None, 32, 35, 25, 100, 26],\n",
    "    'Salary': [50000, 100000, 65000, 70000, None, 80000, 50000, 100000, 65000],\n",
    "    'Department': ['HR', 'IT', 'IT', 'HR', 'IT', 'Sales', 'HR', 'IT', 'HR'],\n",
    "    'Join Date': ['2020-01-01', '2020-05-15', '2021-03-20', '2020-11-25', '2021-08-30', None, '2020-01-01', '2022-06-18', '2021-02-11'],\n",
    "    'Bonus': [5000, 6000, 5500, 7000, None, 8000, 5000, 10000, 6500]\n",
    "})\n",
    "\n",
    "print(\" Original DataFrame:\\n\", data)\n",
    "\n",
    "data_clean = data.dropna()\n",
    "print(\"\\n After removing missing values:\\n\", data_clean)\n",
    "\n",
    "data_clean = data_clean.drop_duplicates()\n",
    "print(\"\\n After removing duplicates:\\n\", data_clean)\n",
    "\n",
    "for column in ['Age', 'Salary', 'Bonus']:\n",
    "    Q1 = data_clean[column].quantile(0.25)\n",
    "    Q3 = data_clean[column].quantile(0.75)\n",
    "    IQR = Q3 - Q1\n",
    "    data_clean = data_clean[\n",
    "        ~((data_clean[column] < (Q1 - 1.5 * IQR)) | (data_clean[column] > (Q3 + 1.5 * IQR)))\n",
    "    ]\n",
    "\n",
    "print(\"\\n After removing outliers:\\n\", data_clean)\n",
    "\n",
    "print(\"\\n Final Cleaned DataFrame:\\n\", data_clean)\n"
   ]
  },
  {
   "cell_type": "code",
   "execution_count": null,
   "id": "a552d879",
   "metadata": {},
   "outputs": [],
   "source": []
  }
 ],
 "metadata": {
  "kernelspec": {
   "display_name": "Python [conda env:base] *",
   "language": "python",
   "name": "conda-base-py"
  },
  "language_info": {
   "codemirror_mode": {
    "name": "ipython",
    "version": 3
   },
   "file_extension": ".py",
   "mimetype": "text/x-python",
   "name": "python",
   "nbconvert_exporter": "python",
   "pygments_lexer": "ipython3",
   "version": "3.12.7"
  }
 },
 "nbformat": 4,
 "nbformat_minor": 5
}
