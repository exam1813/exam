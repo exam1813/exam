{
 "cells": [
  {
   "cell_type": "code",
   "execution_count": 1,
   "id": "835dd60e",
   "metadata": {},
   "outputs": [
    {
     "name": "stdout",
     "output_type": "stream",
     "text": [
      "Prediction for new employee: Yes\n"
     ]
    }
   ],
   "source": [
    "from sklearn.naive_bayes import GaussianNB\n",
    "\n",
    "x = [\n",
    "    [1, 30000],\n",
    "    [3, 35000],\n",
    "    [5, 50000],\n",
    "    [7, 60000],\n",
    "    [2, 32000],\n",
    "    [6, 58000],\n",
    "    [8, 65000],\n",
    "    [4, 45000],\n",
    "    [3, 40000],\n",
    "    [6, 62000],\n",
    "    [2, 33000],\n",
    "    [5, 55000],\n",
    "    [7, 65000],\n",
    "    [1, 29000],\n",
    "    [4, 48000]\n",
    "]\n",
    "\n",
    "y = ['No', 'No', 'Yes', 'Yes', 'No', 'Yes', 'Yes', 'Yes', 'No', 'Yes', 'No', 'Yes', 'Yes', 'No', 'Yes']\n",
    "\n",
    "model = GaussianNB()\n",
    "model.fit(x, y)\n",
    "\n",
    "new_employee = [[4, 45000]]\n",
    "prediction = model.predict(new_employee)\n",
    "\n",
    "print(\"Prediction for new employee:\", prediction[0])"
   ]
  },
  {
   "cell_type": "code",
   "execution_count": null,
   "id": "65751f8e",
   "metadata": {},
   "outputs": [],
   "source": []
  },
  {
   "cell_type": "code",
   "execution_count": null,
   "id": "60a5c7bf-558d-4cd6-b6ca-9355d099652a",
   "metadata": {},
   "outputs": [],
   "source": []
  }
 ],
 "metadata": {
  "kernelspec": {
   "display_name": "Python [conda env:base] *",
   "language": "python",
   "name": "conda-base-py"
  },
  "language_info": {
   "codemirror_mode": {
    "name": "ipython",
    "version": 3
   },
   "file_extension": ".py",
   "mimetype": "text/x-python",
   "name": "python",
   "nbconvert_exporter": "python",
   "pygments_lexer": "ipython3",
   "version": "3.12.7"
  }
 },
 "nbformat": 4,
 "nbformat_minor": 5
}
